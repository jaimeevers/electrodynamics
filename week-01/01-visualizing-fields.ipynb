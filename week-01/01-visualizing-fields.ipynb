{
 "cells": [
  {
   "cell_type": "markdown",
   "id": "5d1d6191",
   "metadata": {},
   "source": [
    "# Six Views of a Point Charge\n",
    "\n",
    "One of the challenges of electrodynamics is developing an intuition for potentials and fields.  What is a field?  What does it *look* like?\n",
    "\n",
    "We can answer the first question with a formal definition.  A ***field*** is a mathematical object that assigns a quantity to every point in space.  If the quantity is just a number, we call the object a ***scalar field***.  If the quantity is a vector, we call the object a ***vector field***.\n",
    "\n",
    "It is hard to say what a field \"looks like\".  What does temperature look like?  What does gravity look like?  Even if we can't see the quantity in question, we have many ways to represent it.  This problem will introduce you to some useful Python functions as we explore the potentials and electric fields of electric charges."
   ]
  },
  {
   "cell_type": "markdown",
   "id": "be2b848d",
   "metadata": {},
   "source": [
    "## Point Charge\n",
    "\n",
    "The electrostatic potential of a point charge is\n",
    "$$V(\\vec{r}) = \\dfrac{kq}{r}$$\n",
    "\n",
    "The electric field of a point charge is\n",
    "$$\\vec{E}(\\vec{r}) = \\dfrac{kq}{r^2} \\hat{r}$$\n",
    "\n",
    "The following Python ***functions*** will compute the potential and electric field of a point charge."
   ]
  },
  {
   "cell_type": "code",
   "execution_count": 1,
   "id": "e8c1661f",
   "metadata": {},
   "outputs": [],
   "source": [
    "# Get access to useful functions.\n",
    "import numpy as np\n",
    "import matplotlib.pyplot as plt\n",
    "from mpl_toolkits import mplot3d"
   ]
  },
  {
   "cell_type": "code",
   "execution_count": 2,
   "id": "b4c896d8",
   "metadata": {},
   "outputs": [],
   "source": [
    "# Define functions to calculate fields.\n",
    "def coordinates(charge=1, location=(0,0,0), box_size=5, grid_points=201, epsilon=1e-6):\n",
    "    s = np.linspace(-box_size, box_size, grid_points)\n",
    "    X,Y,Z = np.meshgrid(s,s,s, indexing='ij')\n",
    "    \n",
    "    return X, Y, Z\n",
    "\n",
    "def potential(charge=1, location=(0,0,0), box_size=5, grid_points=201, epsilon=1e-6):\n",
    "    x0, y0, z0 = location\n",
    "    q = charge\n",
    "\n",
    "    s = np.linspace(-box_size, box_size, grid_points)\n",
    "    X,Y,Z = np.meshgrid(s,s,s, indexing='ij')\n",
    "    R = np.sqrt((X-x0)**2 + (Y-y0)**2 + (Z-z0)**2 + epsilon**2)\n",
    "    V = q/R\n",
    "    \n",
    "    return V\n",
    "\n",
    "def field(charge=1, location=(0,0,0), box_size=5, grid_points=201, epsilon=1e-6):\n",
    "    x0, y0, z0 = location\n",
    "    q = charge\n",
    "\n",
    "    s = np.linspace(-box_size, box_size, grid_points)\n",
    "    X,Y,Z = np.meshgrid(s,s,s, indexing='ij')\n",
    "    R = np.sqrt((X-x0)**2 + (Y-y0)**2 + (Z-z0)**2 + epsilon**2)\n",
    "    Ex = q*(X-x0)/R**3\n",
    "    Ey = q*(Y-y0)/R**3\n",
    "    Ez = q*(Z-z0)/R**3\n",
    "    \n",
    "    return Ex, Ey, Ez"
   ]
  },
  {
   "cell_type": "code",
   "execution_count": 3,
   "id": "9aa02b71",
   "metadata": {},
   "outputs": [],
   "source": [
    "X, Y, Z = coordinates()\n",
    "V = potential()\n",
    "Ex, Ey, Ez = field()"
   ]
  },
  {
   "cell_type": "markdown",
   "id": "611a13e7",
   "metadata": {},
   "source": [
    "Now that we have a scalar field and a vector field, let's look at them!"
   ]
  },
  {
   "cell_type": "markdown",
   "id": "c89e0bb0",
   "metadata": {},
   "source": [
    "### 1. 1D Slices of Potential\n",
    "\n",
    "The following code will plot the potential along three lines through a point you specify: one line parallel to the x-axis, one parallel to the y-axis, and one parallel to the z-axis."
   ]
  },
  {
   "cell_type": "code",
   "execution_count": 4,
   "id": "70d7cc00",
   "metadata": {},
   "outputs": [
    {
     "ename": "NameError",
     "evalue": "name 'X' is not defined",
     "output_type": "error",
     "traceback": [
      "\u001b[1;31m---------------------------------------------------------------------------\u001b[0m",
      "\u001b[1;31mNameError\u001b[0m                                 Traceback (most recent call last)",
      "Input \u001b[1;32mIn [4]\u001b[0m, in \u001b[0;36m<cell line: 6>\u001b[1;34m()\u001b[0m\n\u001b[0;32m      3\u001b[0m y0 \u001b[38;5;241m=\u001b[39m \u001b[38;5;241m111\u001b[39m\n\u001b[0;32m      4\u001b[0m z0 \u001b[38;5;241m=\u001b[39m \u001b[38;5;241m121\u001b[39m\n\u001b[1;32m----> 6\u001b[0m x_val \u001b[38;5;241m=\u001b[39m \u001b[43mX\u001b[49m[x0,y0,z0]\n\u001b[0;32m      7\u001b[0m y_val \u001b[38;5;241m=\u001b[39m Y[x0,y0,z0]\n\u001b[0;32m      8\u001b[0m z_val \u001b[38;5;241m=\u001b[39m Z[x0,y0,z0]\n",
      "\u001b[1;31mNameError\u001b[0m: name 'X' is not defined"
     ]
    }
   ],
   "source": [
    "# Choose coordinate indices for slices.\n",
    "x0 = 50\n",
    "y0 = 111\n",
    "z0 = 121\n",
    "\n",
    "x_val = X[x0,y0,z0]\n",
    "y_val = Y[x0,y0,z0]\n",
    "z_val = Z[x0,y0,z0]\n",
    "\n",
    "print(\"The slices are taken through (x0,y0,z0) = (%g, %g, %g).\" % (x_val, y_val, z_val))\n",
    "\n",
    "# Create a figure and plot the slices.\n",
    "fig, ax = plt.subplots(3, dpi=200)\n",
    "\n",
    "# Plot V(x,y0,z0)\n",
    "x = X[:,y0,z0]\n",
    "v1 = V[:,y0,z0]\n",
    "ax[0].plot(x,v1)\n",
    "ax[0].set_title(r\"$V(x,y_0,z_0)$\")\n",
    "\n",
    "# Plot V(x0,y,z0)\n",
    "y = Y[x0,:,z0]\n",
    "v2 = V[x0,:,z0]\n",
    "ax[1].plot(y,v2)\n",
    "ax[1].set_title(r\"$V(x_0,y,z_0)$\")\n",
    "\n",
    "# Plot V(x0,y0,z)\n",
    "z = Z[x0,y0,:]\n",
    "v3 = V[x0,y0,:]\n",
    "ax[2].plot(z,v3)\n",
    "ax[2].set_title(r\"$V(x_0,y_0,z)$\")\n",
    "\n",
    "\n",
    "fig.tight_layout()"
   ]
  },
  {
   "cell_type": "markdown",
   "id": "74834ce0",
   "metadata": {},
   "source": [
    "Change the values of `x0`, `y0`, and `z0` in the cell above and run it again.  Do this several times.\n",
    "\n",
    "What does this representation of the potential reveal?  What information does it provide?  What are its limitations?\n",
    "\n",
    "***Type your response in the box below.***"
   ]
  },
  {
   "cell_type": "markdown",
   "id": "38a626da",
   "metadata": {},
   "source": [
    "I tried changing the values one at a time to see how changing just one axis affected the plots, which allowed me to visualize/conceptualize the representation better. \n",
    "\n",
    "After doing this a few times, I did run into an error saying X is not defined, when assigning x_val = X[x0,y0,z0] but it was the same as y_val and z_val and I compared every line of code with the original, so I haven't been able to figure out that error message.\n",
    "\n",
    "Information provided: the graph just tells us the potential and how it changes as it moves parallel to one axis, through one point, defined by coordinates in the other two axes. This tells us how potential changes along each direction in 3D\n",
    "Limitations: the plots are representing a 3-dimensional thing in two dimensions, and they are not representing movement along the axis, but what is happening with the potential as it moves along that axis/through the point (I'm not sure if that makes sense, but it makes sense in my head)"
   ]
  },
  {
   "cell_type": "markdown",
   "id": "c144e81b",
   "metadata": {},
   "source": [
    "### 2. 2D Slices of Potential\n",
    "\n",
    "The cell below will plot a 2D slice of the potential through a height that you specify.\n",
    "\n",
    "It will display a surface plot and a heatmap. "
   ]
  },
  {
   "cell_type": "code",
   "execution_count": 1,
   "id": "e37461fb",
   "metadata": {},
   "outputs": [
    {
     "ename": "NameError",
     "evalue": "name 'Z' is not defined",
     "output_type": "error",
     "traceback": [
      "\u001b[1;31m---------------------------------------------------------------------------\u001b[0m",
      "\u001b[1;31mNameError\u001b[0m                                 Traceback (most recent call last)",
      "Input \u001b[1;32mIn [1]\u001b[0m, in \u001b[0;36m<cell line: 3>\u001b[1;34m()\u001b[0m\n\u001b[0;32m      1\u001b[0m \u001b[38;5;66;03m# Choose z-coordinate index for slices.\u001b[39;00m\n\u001b[0;32m      2\u001b[0m z0 \u001b[38;5;241m=\u001b[39m \u001b[38;5;241m121\u001b[39m\n\u001b[1;32m----> 3\u001b[0m z_val \u001b[38;5;241m=\u001b[39m \u001b[43mZ\u001b[49m[x0,y0,z0]\n\u001b[0;32m      5\u001b[0m \u001b[38;5;28mprint\u001b[39m(\u001b[38;5;124m\"\u001b[39m\u001b[38;5;124mThe slice is taken through z0 = \u001b[39m\u001b[38;5;132;01m%g\u001b[39;00m\u001b[38;5;124m.\u001b[39m\u001b[38;5;124m\"\u001b[39m \u001b[38;5;241m%\u001b[39m z_val)\n\u001b[0;32m      7\u001b[0m \u001b[38;5;66;03m# Get slice\u001b[39;00m\n",
      "\u001b[1;31mNameError\u001b[0m: name 'Z' is not defined"
     ]
    }
   ],
   "source": [
    "# Choose z-coordinate index for slices.\n",
    "z0 = 121\n",
    "z_val = Z[x0,y0,z0]\n",
    "\n",
    "print(\"The slice is taken through z0 = %g.\" % z_val)\n",
    "\n",
    "# Get slice\n",
    "x = X[:,:,z0]\n",
    "y = Y[:,:,z0]\n",
    "v = V[:,:,z0]\n",
    "\n",
    "# Create a surface plot.\n",
    "fig = plt.figure(dpi=200)\n",
    "ax1 = fig.add_subplot(projection='3d')\n",
    "ax1.plot_surface(x,y,v, cmap='jet', antialiased=False, linewidth=0)\n",
    "ax1.set_title(r\"$V(x,y,z_0)$\")\n",
    "\n",
    "# Heatmap\n",
    "fig, ax2 = plt.subplots(dpi=200)\n",
    "image = ax2.pcolormesh(x,y,v, shading='gouraud', cmap='jet')\n",
    "plt.colorbar(image, use_gridspec=True)\n",
    "ax2.axis('scaled')"
   ]
  },
  {
   "cell_type": "markdown",
   "id": "05ef83cb",
   "metadata": {},
   "source": [
    "Change the value of `z0` in the cell above and run it again.  Do this several times.\n",
    "\n",
    "What does this representation of the potential reveal?  What information does it provide?  What are its limitations?\n",
    "\n",
    "***Type your response in the box below.***"
   ]
  },
  {
   "cell_type": "markdown",
   "id": "53b6b71f",
   "metadata": {},
   "source": []
  },
  {
   "cell_type": "markdown",
   "id": "c2e5a5f5",
   "metadata": {},
   "source": [
    "### 3. 1D Slices of Electric Field\n",
    "\n",
    "The following code will plot the components of the electric field along three lines through a point you specify: one line parallel to the x-axis, one parallel to the y-axis, and one parallel to the z-axis."
   ]
  },
  {
   "cell_type": "code",
   "execution_count": null,
   "id": "3eb3a904",
   "metadata": {},
   "outputs": [],
   "source": [
    "# Choose coordinate indices for slices.\n",
    "x0 = 101\n",
    "y0 = 111\n",
    "z0 = 121\n",
    "\n",
    "x_val = X[x0,y0,z0]\n",
    "y_val = Y[x0,y0,z0]\n",
    "z_val = Z[x0,y0,z0]\n",
    "\n",
    "print(\"The slices are taken through (x0,y0,z0) = (%g, %g, %g).\" % (x_val, y_val, z_val))\n",
    "\n",
    "# Create a figure and plot the slices.\n",
    "fig, ax = plt.subplots(3,3, dpi=200)\n",
    "\n",
    "# Plot components of E(x,y0,z0)\n",
    "x = X[:,y0,z0]\n",
    "y = Y[x0,:,z0]\n",
    "z = Z[x0,y0,:]\n",
    "\n",
    "\n",
    "Ex1 = Ex[:,y0,z0]\n",
    "ax[0,0].plot(x,Ex1)\n",
    "ax[0,0].set_ylabel(r\"$E_x$\")\n",
    "\n",
    "Ey1 = Ey[:,y0,z0]\n",
    "ax[1,0].plot(x,Ey1)\n",
    "ax[1,0].set_ylabel(r\"$E_y$\")\n",
    "\n",
    "Ez1 = Ez[:,y0,z0]\n",
    "ax[2,0].plot(x,Ez1)\n",
    "ax[2,0].set_ylabel(r\"$E_z$\")\n",
    "ax[2,0].set_xlabel('x')\n",
    "\n",
    "\n",
    "Ex2 = Ex[x0,:,z0]\n",
    "ax[0,1].plot(y,Ex2)\n",
    "\n",
    "Ey2 = Ey[x0,:,z0]\n",
    "ax[1,1].plot(y,Ey2)\n",
    "\n",
    "Ez2 = Ez[x0,:,z0]\n",
    "ax[2,1].plot(y,Ez2)\n",
    "ax[2,1].set_xlabel('y')\n",
    "\n",
    "\n",
    "Ex3 = Ex[x0,y0,:]\n",
    "ax[0,2].plot(z,Ex3)\n",
    "\n",
    "Ey3 = Ey[x0,y0,:]\n",
    "ax[1,2].plot(z,Ey3)\n",
    "\n",
    "Ez3 = Ez[:,y0,z0]\n",
    "ax[2,2].plot(z,Ez3)\n",
    "ax[2,2].set_xlabel('z')\n",
    "\n",
    "fig.tight_layout()"
   ]
  },
  {
   "cell_type": "markdown",
   "id": "f12c944f",
   "metadata": {},
   "source": [
    "Change the values of `x0`, `y0`, and `z0` in the cell above and run it again.  Do this several times.\n",
    "\n",
    "What does this representation of the electric field reveal?  What information does it provide?  What are its limitations?\n",
    "\n",
    "***Type your response in the box below.***"
   ]
  },
  {
   "cell_type": "markdown",
   "id": "21465954",
   "metadata": {},
   "source": []
  },
  {
   "cell_type": "markdown",
   "id": "a74c9a58",
   "metadata": {},
   "source": [
    "### 4. 2D Slices of Electric Field\n",
    "\n",
    "The cell below will plot a 2D slice of the components of the electric field through a height that you specify.\n",
    "\n",
    "It will display a surface plot and a heatmap of each component. "
   ]
  },
  {
   "cell_type": "code",
   "execution_count": null,
   "id": "b3200f65",
   "metadata": {},
   "outputs": [],
   "source": [
    "# Choose z-coordinate index for slices.\n",
    "z0 = 150\n",
    "z_val = Z[x0,y0,z0]\n",
    "\n",
    "print(\"The slice is taken through z0 = %g.\" % z_val)\n",
    "\n",
    "# Get slices\n",
    "x = X[:,:,z0]\n",
    "y = Y[:,:,z0]\n",
    "ex = Ex[:,:,z0]\n",
    "ey = Ey[:,:,z0]\n",
    "ez = Ez[:,:,z0]\n",
    "\n",
    "# Create a surface plots.\n",
    "fig = plt.figure(dpi=200)\n",
    "\n",
    "ax = fig.add_subplot(2,3,1, projection='3d')\n",
    "ax.plot_surface(x,y,ex, cmap='jet', antialiased=False, linewidth=0)\n",
    "ax.set_title(r\"$E_x(x,y,z_0)$\")\n",
    "\n",
    "ax = fig.add_subplot(2,3,2, projection='3d')\n",
    "ax.plot_surface(x,y,ey, cmap='jet', antialiased=False, linewidth=0)\n",
    "ax.set_title(r\"$E_y(x,y,z_0)$\")\n",
    "\n",
    "ax = fig.add_subplot(2,3,3, projection='3d')\n",
    "ax.plot_surface(x,y,ez, cmap='jet', antialiased=False, linewidth=0)\n",
    "ax.set_title(r\"$E_z(x,y,z_0)$\")\n",
    "\n",
    "# Heatmaps\n",
    "ax = fig.add_subplot(2,3,4)\n",
    "image = ax.pcolormesh(x,y,ex, shading='gouraud', cmap='jet')\n",
    "ax.axis('scaled')\n",
    "\n",
    "ax = fig.add_subplot(2,3,5)\n",
    "image = ax.pcolormesh(x,y,ey, shading='gouraud', cmap='jet')\n",
    "ax.axis('scaled')\n",
    "\n",
    "ax = fig.add_subplot(2,3,6)\n",
    "image = ax.pcolormesh(x,y,ez, shading='gouraud', cmap='jet')\n",
    "ax.axis('scaled')\n",
    "\n",
    "fig.tight_layout()\n",
    "\n",
    "# image = ax.pcolormesh(x,y,v, shading='gouraud', cmap='jet')\n",
    "# plt.colorbar(image, use_gridspec=True)\n",
    "# ax.axis('scaled')"
   ]
  },
  {
   "cell_type": "markdown",
   "id": "4a08c873",
   "metadata": {},
   "source": [
    "Change the value of `z0` in the cell above and run it again.  Do this several times.\n",
    "\n",
    "What does this representation of the electric field reveal?  What information does it provide?  What are its limitations?\n",
    "\n",
    "***Type your response in the box below.***"
   ]
  },
  {
   "cell_type": "markdown",
   "id": "148550f0",
   "metadata": {},
   "source": []
  },
  {
   "cell_type": "markdown",
   "id": "33217c82",
   "metadata": {},
   "source": [
    "### 5. Quiver Plots of Electric Field\n",
    "\n",
    "The cell below will create a 3D \"quiver plot\" of the electric field and a 2D quiver plot of a slice through the electric field."
   ]
  },
  {
   "cell_type": "code",
   "execution_count": null,
   "id": "423a9867",
   "metadata": {},
   "outputs": [],
   "source": [
    "# Uncomment the last line for interactive plots.\n",
    "\n",
    "%matplotlib inline\n",
    "# %matplotlib notebook"
   ]
  },
  {
   "cell_type": "code",
   "execution_count": null,
   "id": "9b0d0164",
   "metadata": {},
   "outputs": [],
   "source": [
    "# Create a quiver plot.\n",
    "# Use a coarser grid.\n",
    "stride = 40\n",
    "x = X[::stride,::stride,::stride].copy()\n",
    "y = Y[::stride,::stride,::stride].copy()\n",
    "z = Z[::stride,::stride,::stride].copy()\n",
    "ex = Ex[::stride,::stride,::stride].copy()\n",
    "ey = Ey[::stride,::stride,::stride].copy()\n",
    "ez = Ez[::stride,::stride,::stride].copy()\n",
    "\n",
    "# Set max length to improve visibility in plot.\n",
    "ecut = 1\n",
    "ex[ex>ecut] = ecut\n",
    "ey[ey>ecut] = ecut\n",
    "ez[ez>ecut] = ecut\n",
    "ex[ex<-ecut] = -ecut\n",
    "ey[ey<-ecut] = -ecut\n",
    "ez[ez<-ecut] = -ecut\n",
    "\n",
    "fig = plt.figure(dpi=200)\n",
    "ax = fig.add_subplot(projection='3d')\n",
    "ax.quiver3D(x,y,z,ex,ey,ez, pivot='middle', length=5, linewidth=0.5, color='red')\n",
    "ax.set_title(r\"$\\vec{E}(\\vec{R})$\")\n",
    "\n",
    "# Make a 2D plot of a slice of the field.\n",
    "z0 = 150\n",
    "z_val = Z[0,0,z0]\n",
    "\n",
    "# Use a coarser grid.\n",
    "stride = 25\n",
    "x = X[::stride,::stride,z0].copy()\n",
    "y = Y[::stride,::stride,z0].copy()\n",
    "ex = Ex[::stride,::stride,z0].copy()\n",
    "ey = Ey[::stride,::stride,z0].copy()\n",
    "\n",
    "# Set max length to improve visibility in plot.\n",
    "ex[ex>ecut] = ecut\n",
    "ey[ey>ecut] = ecut\n",
    "ex[ex<-ecut] = -ecut\n",
    "ey[ey<-ecut] = -ecut\n",
    "\n",
    "fig = plt.figure(dpi=200)\n",
    "ax = fig.add_subplot()\n",
    "ax.quiver(x,y,ex,ey, pivot='middle', scale=0.8, linewidth=0.5, color='red')\n",
    "ax.set_title(\"Projection of field onto plane at z=%g\" % z_val)\n",
    "ax.axis(\"scaled\")"
   ]
  },
  {
   "cell_type": "markdown",
   "id": "3992299a",
   "metadata": {},
   "source": [
    "Change the values of `ecut` and `z0` in the cell above and run it again.  Do this several times.\n",
    "\n",
    "What does this representation of the electric field reveal?  What information does it provide?  What are its limitations?\n",
    "\n",
    "***Type your response in the box below.***"
   ]
  },
  {
   "cell_type": "markdown",
   "id": "9dfca89a",
   "metadata": {},
   "source": []
  },
  {
   "cell_type": "markdown",
   "id": "28f89d0f",
   "metadata": {},
   "source": [
    "### 6. Streamlines of the Electric Field\n",
    "\n",
    "The cell below will draw three dimensional \"field lines\" of the electric field."
   ]
  },
  {
   "cell_type": "code",
   "execution_count": null,
   "id": "87283c4e",
   "metadata": {},
   "outputs": [],
   "source": [
    "# Make a 2D plot of a slice of the field.\n",
    "z0 = 115\n",
    "z_val = Z[0,0,z0]\n",
    "\n",
    "# Use a coarser grid.\n",
    "stride = 1\n",
    "x = X[::stride,::stride,z0].copy().T\n",
    "y = Y[::stride,::stride,z0].copy().T\n",
    "ex = Ex[::stride,::stride,z0].copy().T\n",
    "ey = Ey[::stride,::stride,z0].copy().T\n",
    "\n",
    "# Set max length to improve visibility in plot.\n",
    "ecut = 1\n",
    "ex[ex>ecut] = ecut\n",
    "ey[ey>ecut] = ecut\n",
    "ex[ex<-ecut] = -ecut\n",
    "ey[ey<-ecut] = -ecut\n",
    "\n",
    "fig = plt.figure(dpi=200)\n",
    "ax = fig.add_subplot()\n",
    "ax.streamplot(x,y,ex,ey, linewidth=0.5, density=1.5)\n",
    "ax.set_title(\"Projection of field onto plane at z=%g\" % z_val)\n",
    "ax.axis(\"scaled\")"
   ]
  },
  {
   "cell_type": "markdown",
   "id": "f4a67ca0",
   "metadata": {},
   "source": [
    "Change the values of `ecut` and `z0` in the cell above and run it again.  Do this several times.\n",
    "\n",
    "What does this representation of the electric field reveal?  What information does it provide?  What are its limitations?\n",
    "\n",
    "***Type your response in the box below.***"
   ]
  },
  {
   "cell_type": "markdown",
   "id": "b58461cb",
   "metadata": {},
   "source": []
  },
  {
   "cell_type": "markdown",
   "id": "60b8d82c",
   "metadata": {},
   "source": [
    "## Reflection\n",
    "\n",
    "All of these plots are representations of the same underlying physical entity: the electromagnetic field of a single point charge.  Which did you find most useful?  Confusing?  Can you think of another way to represent a three-dimensional electric field or scalar field?\n",
    "\n",
    "***Type your response in the box below.***"
   ]
  },
  {
   "cell_type": "markdown",
   "id": "8a9063ce",
   "metadata": {},
   "source": []
  }
 ],
 "metadata": {
  "kernelspec": {
   "display_name": "Python 3 (ipykernel)",
   "language": "python",
   "name": "python3"
  },
  "language_info": {
   "codemirror_mode": {
    "name": "ipython",
    "version": 3
   },
   "file_extension": ".py",
   "mimetype": "text/x-python",
   "name": "python",
   "nbconvert_exporter": "python",
   "pygments_lexer": "ipython3",
   "version": "3.9.12"
  }
 },
 "nbformat": 4,
 "nbformat_minor": 5
}
