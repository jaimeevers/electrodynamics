{
 "cells": [
  {
   "cell_type": "markdown",
   "id": "6e300c92",
   "metadata": {},
   "source": [
    "# Dipole Radiation\n",
    "\n",
    "Any accelerating charge produces electromagnetic radiation.  If the charges in a neutral object — like an atom or a radio antenna — are undergoing periodic motion, we can approximate the system as an **oscillating electric dipole**.  As discussed in Chapter 9 of _CER_ or [Chapter 28 of the Feynman Lectures](https://www.feynmanlectures.caltech.edu/I_28.html), the __radiation field__ at point $\\vec{r}$ in the $xz$-plane far from a dipole oscillating along the $z$-axis at the origin is\n",
    "\n",
    "$$\\vec{E}(\\vec{r}, t) = \\dfrac{1}{c^2}\n",
    "\\, \\omega^2 p_0 \\sin \\theta\n",
    "\\, \\dfrac{\\cos \\omega(t - r/c)}{r}\n",
    "\\, (\\hat{e}_x \\cos \\theta - \\hat{e}_z \\sin \\theta)$$\n",
    "\n",
    "The goal of this exercise is to tame this expression and create a movie of an oscillating electric field.\n",
    "\n",
    "First, the variables:\n",
    "\n",
    "| Symbol | Meaning |\n",
    "| --- | --- |\n",
    "| $\\omega$ | angular frequency of oscillation |\n",
    "| $p_0$ | maximum dipole moment |\n",
    "| $c$ | speed of light |\n",
    "| $r$ | distance from origin to point of interest |\n",
    "| $t$ | current time |\n",
    "| $\\theta$ | angle from $y$-axis to point of interest |\n",
    "\n",
    "The final term in parentheses is a unit vector that gives the direction of the field.\n",
    "\n",
    "### Warm Up\n",
    "\n",
    "Our goal is to watch the electromagnetic waves propagate outward from the dipole as it oscillates.  This means we need to choose the time increments and spatial grid of points appropriately.  We need to ...\n",
    "\n",
    "- Determine the duration of the simulation if we want to watch 10 complete cycles of oscillation.\n",
    "\n",
    "- Determine the size of the grid if we want to see at least 5 wavelengths in each direction.\n",
    "\n",
    "- Determine a reasonable time increment `dt` and grid spacing `dx` for simulating red light with a wavelength of $700 \\ {\\tt nm}$.\n",
    "\n",
    "We do not have the computer hardware of lifespan to simulate a 1 billion by 1 billion grid of points for 10 billion time steps!\n",
    "\n",
    "___Solution:___\n",
    "\n",
    "- The wavelength of the light is $\\lambda = 7.0 \\, 10^{-7} \\ {\\tt m}$.\n",
    "\n",
    "- The period of a wave is $T = \\dfrac{1}{f} = \\dfrac{\\lambda}{c}$.  For red light, this works out to $T \\approx 2.335 \\cdot 10^{-15} \\ {\\tt s}$.\n",
    "\n",
    "___Dimensional Analysis:___\n",
    "\n",
    "These values are very small, and the frequency and speed of light are very large. We might run into roundoff error if we are not careful.  Instead, let's choose our units so that numerical values are on the order of 1.\n",
    "\n",
    "First, note that we can rewrite the argument of the cosine function as follows:\n",
    "$$\\omega(t - R/c) = 2\\pi \\left(\\dfrac{t}{T} - \\dfrac{r}{\\lambda}\\right)$$\n",
    "If we measure time in femtoseconds and distance in micrometers, all numbers in this expression will be of order 1.\n",
    "\n",
    "Second, we can now rewrite the expression for the electric field as follows:\n",
    "$$\\vec{E}(\\vec{r}, t)\n",
    "= E_0 \\, \\dfrac{\\lambda}{r} \\, \\cos 2\\pi \\left( \\dfrac{t}{T} - \\dfrac{r}{\\lambda}\\right)\n",
    "\\, (\\hat{e}_x \\cos \\theta - \\hat{e}_z \\sin \\theta)  \\sin \\theta\n",
    "$$\n",
    "where\n",
    "$$E_0 = \\dfrac{\\omega^2 p_0}{\\lambda c^2} = 4 \\pi^2 \\dfrac{p_0}{\\lambda^3}$$\n",
    "\n",
    "Different values of $E_0$ change the overall magnitude of the electric field, but not the relative size of the components at different points.  Thus, we can set $E_0 = 1$ during the calculation, and we can restore the units if we need to compute forces at another time.\n",
    "\n",
    "This type of dimensional analysis can greatly simplify codiing and often leads to more accurate results because you do not \"forget\" a factor $10^9$ somewhere in the code.\n",
    "\n",
    "Now, let's make a movie!"
   ]
  },
  {
   "cell_type": "code",
   "execution_count": 1,
   "id": "d638286d",
   "metadata": {},
   "outputs": [],
   "source": [
    "import numpy as np\n",
    "import matplotlib.pyplot as plt\n",
    "from os import system\n",
    "from IPython.display import HTML, clear_output"
   ]
  },
  {
   "cell_type": "markdown",
   "id": "3dde9bb2",
   "metadata": {},
   "source": [
    "## Linear Dipole\n",
    "\n",
    "Our first simulation will illustrate the radiation field of a dipole oscillating along the z-axis.  This is much like the field created by a single radio tower.  Before you run the following cells, make some predictions.\n",
    "\n",
    "- What do you expect the field to look like?\n",
    "- In what directions will the strength of the field be strongest? Weakest?\n",
    "\n",
    "***Write your predictions below.***"
   ]
  },
  {
   "cell_type": "markdown",
   "id": "353e5358",
   "metadata": {},
   "source": [
    "- I expect there to be a periodic pattern to the fields\n",
    "- I expect fields to be strongest at the antinodes because that is where there is the greatest accelleration "
   ]
  },
  {
   "cell_type": "code",
   "execution_count": 2,
   "id": "c79e6cc4",
   "metadata": {},
   "outputs": [
    {
     "name": "stdout",
     "output_type": "stream",
     "text": [
      "Completed frame 65 of 65.\r"
     ]
    }
   ],
   "source": [
    "from scipy.constants import c as speed_of_light\n",
    "\n",
    "# Wavelength in m.\n",
    "lambda0 = 700e-9\n",
    "\n",
    "# Wavelength in um.\n",
    "wavelength = lambda0 * 1e6\n",
    "\n",
    "# Period in fs.\n",
    "period = 1e15 * lambda0 / speed_of_light\n",
    "\n",
    "# Define grid of points and array of times for plotting.\n",
    "t_max = period\n",
    "dt = period / 64\n",
    "t_values = np.arange(0, t_max + dt, dt)\n",
    "N = len(t_values)\n",
    "\n",
    "x_max = 3 * wavelength\n",
    "dx = wavelength / 10\n",
    "coordinates = np.arange(-x_max, x_max + dx, dx)\n",
    "\n",
    "X,Z = np.meshgrid(coordinates, coordinates)\n",
    "R = np.sqrt(X**2 + Z**2 + 1e-6)\n",
    "theta = np.arctan2(X,Z)\n",
    "\n",
    "# Define field strength and cutoff for rescaling large values.\n",
    "E0 = 2.0\n",
    "E_cut = 1.0\n",
    "R_cut = 0.5*wavelength\n",
    "\n",
    "# Remove any existing movie frames.\n",
    "system('rm -f *-linear-dipole.jpg')\n",
    "\n",
    "# It is essential that the frames be named in alphabetical order.\n",
    "# {:03d} will display integers with three digits and insert zeros if needed:\n",
    "# '000_movie.jpg', '001_movie.jpg', etc.\n",
    "file_name = \"{:03d}-linear-dipole.jpg\"\n",
    "\n",
    "\n",
    "plt.figure(figsize=(6,6), dpi=200)\n",
    "# Generate frames and save each figure as a separate .jpg file.\n",
    "for i, t in enumerate(t_values):\n",
    "    # Compute magnitude of field.\n",
    "    ## Dipole oscillating along z-axis.\n",
    "    # pz = np.cos(2*np.pi * (t/period))\n",
    "    # px = 0\n",
    "    # E =  -E0 * wavelength * np.sin(theta) * np.cos(2*np.pi * (t/period - R/wavelength)) / R\n",
    "    \n",
    "    ## Dipole oscillating along x-axis.\n",
    "    pz = 0\n",
    "    px = np.cos(2*np.pi * (t/period))    \n",
    "    E =  E0 * wavelength * np.cos(theta) * np.cos(2*np.pi * (t/period - R/wavelength)) / R\n",
    "\n",
    "    # Use this for the oscillating dipole.\n",
    "    Ex = E * np.cos(theta)\n",
    "    Ez = -E * np.sin(theta)\n",
    "\n",
    "    # Rescale large values.\n",
    "    Ex[R<R_cut] = 0\n",
    "    Ez[R<R_cut] = 0\n",
    "    E = np.sqrt(Ex**2 + Ez**2) \n",
    "    bad = E > E_cut\n",
    "    Ex[bad] = E_cut * Ex[bad] / E[bad]\n",
    "    Ez[bad] = E_cut * Ez[bad] / E[bad]\n",
    "    \n",
    "    # Make plot and save to file.\n",
    "    plt.quiver(X, Z, Ex, Ez, pivot='middle', lw=1, scale=40)\n",
    "    plt.quiver(0,0,px,pz, pivot='middle', color='red', lw=1, scale=10)\n",
    "    plt.xlabel('X [um]')\n",
    "    plt.ylabel('Z [um]')\n",
    "    plt.savefig(file_name.format(i))  # save current plot\n",
    "\n",
    "    # Clear plot for next frame.\n",
    "    plt.cla()\n",
    "    \n",
    "    print(\"Completed frame %d of %d.\\r\" % (i+1,N), end='')\n",
    "\n",
    "plt.close()"
   ]
  },
  {
   "cell_type": "code",
   "execution_count": 3,
   "id": "6a6ab05c",
   "metadata": {},
   "outputs": [
    {
     "name": "stderr",
     "output_type": "stream",
     "text": [
      "ffmpeg version 4.2.2 Copyright (c) 2000-2019 the FFmpeg developers\n",
      "  built with gcc 9.2.1 (GCC) 20200122\n",
      "  configuration: --disable-static --enable-shared --enable-gpl --enable-version3 --enable-sdl2 --enable-fontconfig --enable-gnutls --enable-iconv --enable-libass --enable-libdav1d --enable-libbluray --enable-libfreetype --enable-libmp3lame --enable-libopencore-amrnb --enable-libopencore-amrwb --enable-libopenjpeg --enable-libopus --enable-libshine --enable-libsnappy --enable-libsoxr --enable-libtheora --enable-libtwolame --enable-libvpx --enable-libwavpack --enable-libwebp --enable-libx264 --enable-libx265 --enable-libxml2 --enable-libzimg --enable-lzma --enable-zlib --enable-gmp --enable-libvidstab --enable-libvorbis --enable-libvo-amrwbenc --enable-libmysofa --enable-libspeex --enable-libxvid --enable-libaom --enable-libmfx --enable-amf --enable-ffnvcodec --enable-cuvid --enable-d3d11va --enable-nvenc --enable-nvdec --enable-dxva2 --enable-avisynth --enable-libopenmpt\n",
      "  libavutil      56. 31.100 / 56. 31.100\n",
      "  libavcodec     58. 54.100 / 58. 54.100\n",
      "  libavformat    58. 29.100 / 58. 29.100\n",
      "  libavdevice    58.  8.100 / 58.  8.100\n",
      "  libavfilter     7. 57.100 /  7. 57.100\n",
      "  libswscale      5.  5.100 /  5.  5.100\n",
      "  libswresample   3.  5.100 /  3.  5.100\n",
      "  libpostproc    55.  5.100 / 55.  5.100\n",
      "Input #0, image2, from '%03d-linear-dipole.jpg':\n",
      "  Duration: 00:00:02.60, start: 0.000000, bitrate: N/A\n",
      "    Stream #0:0: Video: mjpeg (Baseline), yuvj420p(pc, bt470bg/unknown/unknown), 1200x1200 [SAR 200:200 DAR 1:1], 25 fps, 25 tbr, 25 tbn, 25 tbc\n",
      "Stream mapping:\n",
      "  Stream #0:0 -> #0:0 (mjpeg (native) -> h264 (libx264))\n",
      "Press [q] to stop, [?] for help\n",
      "[swscaler @ 000001ce01955980] deprecated pixel format used, make sure you did set range correctly\n",
      "[libx264 @ 000001ce01953f40] using SAR=1/1\n",
      "[libx264 @ 000001ce01953f40] using cpu capabilities: MMX2 SSE2Fast SSSE3 SSE4.2 AVX FMA3 BMI2 AVX2 AVX512\n",
      "[libx264 @ 000001ce01953f40] profile High, level 4.0, 4:2:0, 8-bit\n",
      "[libx264 @ 000001ce01953f40] 264 - core 159 - H.264/MPEG-4 AVC codec - Copyleft 2003-2019 - http://www.videolan.org/x264.html - options: cabac=1 ref=3 deblock=1:0:0 analyse=0x3:0x113 me=hex subme=7 psy=1 psy_rd=1.00:0.00 mixed_ref=1 me_range=16 chroma_me=1 trellis=1 8x8dct=1 cqm=0 deadzone=21,11 fast_pskip=1 chroma_qp_offset=-2 threads=12 lookahead_threads=2 sliced_threads=0 nr=0 decimate=1 interlaced=0 bluray_compat=0 constrained_intra=0 bframes=3 b_pyramid=2 b_adapt=1 b_bias=0 direct=1 weightb=1 open_gop=0 weightp=2 keyint=250 keyint_min=25 scenecut=40 intra_refresh=0 rc_lookahead=40 rc=crf mbtree=1 crf=23.0 qcomp=0.60 qpmin=0 qpmax=69 qpstep=4 ip_ratio=1.40 aq=1:1.00\n",
      "Output #0, mp4, to 'linear-movie.mp4':\n",
      "  Metadata:\n",
      "    encoder         : Lavf58.29.100\n",
      "    Stream #0:0: Video: h264 (libx264) (avc1 / 0x31637661), yuv420p, 1200x1200 [SAR 1:1 DAR 1:1], q=-1--1, 25 fps, 12800 tbn, 25 tbc\n",
      "    Metadata:\n",
      "      encoder         : Lavc58.54.100 libx264\n",
      "    Side data:\n",
      "      cpb: bitrate max/min/avg: 0/0/0 buffer size: 0 vbv_delay: -1\n",
      "frame=   48 fps=0.0 q=0.0 size=       0kB time=00:00:00.00 bitrate=N/A speed=   0x    \n",
      "frame=   65 fps= 52 q=-1.0 Lsize=    2849kB time=00:00:02.48 bitrate=9411.6kbits/s speed=1.97x    \n",
      "video:2848kB audio:0kB subtitle:0kB other streams:0kB global headers:0kB muxing overhead: 0.046119%\n",
      "[libx264 @ 000001ce01953f40] frame I:1     Avg QP:22.38  size:140910\n",
      "[libx264 @ 000001ce01953f40] frame P:49    Avg QP:24.29  size: 51580\n",
      "[libx264 @ 000001ce01953f40] frame B:15    Avg QP:28.71  size: 16492\n",
      "[libx264 @ 000001ce01953f40] consecutive B-frames: 69.2%  0.0%  0.0% 30.8%\n",
      "[libx264 @ 000001ce01953f40] mb I  I16..4: 31.8% 18.0% 50.2%\n",
      "[libx264 @ 000001ce01953f40] mb P  I16..4:  0.3%  0.1%  0.2%  P16..4: 12.0% 13.5% 17.2%  0.0%  0.0%    skip:56.6%\n",
      "[libx264 @ 000001ce01953f40] mb B  I16..4:  0.1%  0.1%  0.0%  B16..8:  6.9%  4.9%  6.8%  direct:10.5%  skip:70.7%  L0:41.9% L1:38.1% BI:20.0%\n",
      "[libx264 @ 000001ce01953f40] 8x8 transform intra:18.3% inter:17.7%\n",
      "[libx264 @ 000001ce01953f40] coded y,uvDC,uvAC intra: 36.1% 0.2% 0.2% inter: 20.7% 0.1% 0.1%\n",
      "[libx264 @ 000001ce01953f40] i16 v,h,dc,p: 83% 11%  5%  1%\n",
      "[libx264 @ 000001ce01953f40] i8 v,h,dc,ddl,ddr,vr,hd,vl,hu: 54% 10% 32%  2%  0%  0%  0%  0%  1%\n",
      "[libx264 @ 000001ce01953f40] i4 v,h,dc,ddl,ddr,vr,hd,vl,hu: 33% 21% 16%  5%  6%  4%  6%  3%  5%\n",
      "[libx264 @ 000001ce01953f40] i8c dc,h,v,p: 100%  0%  0%  0%\n",
      "[libx264 @ 000001ce01953f40] Weighted P-Frames: Y:0.0% UV:0.0%\n",
      "[libx264 @ 000001ce01953f40] ref P L0: 73.2% 12.6%  7.6%  6.6%\n",
      "[libx264 @ 000001ce01953f40] ref B L0: 83.6%  8.6%  7.8%\n",
      "[libx264 @ 000001ce01953f40] ref B L1: 97.5%  2.5%\n",
      "[libx264 @ 000001ce01953f40] kb/s:8971.32\n"
     ]
    }
   ],
   "source": [
    "!ffmpeg -y -i %03d-linear-dipole.jpg -pix_fmt yuv420p linear-movie.mp4"
   ]
  },
  {
   "cell_type": "code",
   "execution_count": 4,
   "id": "699fa3c2",
   "metadata": {},
   "outputs": [
    {
     "data": {
      "text/html": [
       "\n",
       "    <video width=\"800\" height=\"800\" alt=\"test\" controls loop>\n",
       "        <source src=linear-movie.mp4 type=\"video/mp4\">\n",
       "    </video>\n"
      ],
      "text/plain": [
       "<IPython.core.display.HTML object>"
      ]
     },
     "execution_count": 4,
     "metadata": {},
     "output_type": "execute_result"
    }
   ],
   "source": [
    "# Play the movie within the notebook.\n",
    "HTML(\"\"\"\n",
    "    <video width=\"800\" height=\"800\" alt=\"test\" controls loop>\n",
    "        <source src=%s type=\"video/mp4\">\n",
    "    </video>\n",
    "\"\"\" % \"linear-movie.mp4\")"
   ]
  },
  {
   "cell_type": "markdown",
   "id": "a3b9ce21",
   "metadata": {},
   "source": [
    "### Questions\n",
    "\n",
    "Describe the field pattern.\n",
    "\n",
    "- What does the field to look like?\n",
    "- In what directions will the strength of the field be strongest? Weakest?\n",
    "\n",
    "***Report your observations below.***"
   ]
  },
  {
   "cell_type": "markdown",
   "id": "3b8b29d9",
   "metadata": {},
   "source": [
    "the field is radiating out in pulses; Each pulse happens when the dipole changes direction (mins and max of the oscilations) then decreases until the next pulse. Though there is no direction that the field is largest."
   ]
  },
  {
   "cell_type": "markdown",
   "id": "47f3b8da",
   "metadata": {},
   "source": [
    "Would you describe this radiation as a \"plane wave\"?  Why or why not?\n",
    "\n",
    "***Share your opinion below.***"
   ]
  },
  {
   "cell_type": "markdown",
   "id": "09c075af",
   "metadata": {},
   "source": [
    "I think so, because the source is planar. However, the fields do change direction, and I'm not sure how to tell if the phase is constant, so I'm not sure"
   ]
  },
  {
   "cell_type": "markdown",
   "id": "79574a6a",
   "metadata": {},
   "source": [
    "**Different Axis**\n",
    "\n",
    "How would you expect the pattern to change if you rotated the dipole by 90°?\n",
    "\n",
    "***Report your prediction below.***"
   ]
  },
  {
   "cell_type": "markdown",
   "id": "9fea28cd",
   "metadata": {},
   "source": [
    "I don't think the pattern would change at all because the acceleration and oscilation shouldn't change"
   ]
  },
  {
   "cell_type": "markdown",
   "id": "9390de6d",
   "metadata": {},
   "source": [
    "The code above contains instructions for viewing a dipole oscillating along the x-axis.\n",
    "\n",
    "Comment out the three lines below\n",
    "```\n",
    "    ## Dipole oscillating along z-axis.\n",
    "```\n",
    "Uncomment the three lines below\n",
    "```\n",
    "    ## Dipole oscillating along x-axis.\n",
    "```\n",
    "Rerun the simulation.\n",
    "\n",
    "- Describe what you see.\n",
    "- Assess your predictions.\n",
    "\n",
    "***Report your observations below.***"
   ]
  },
  {
   "cell_type": "markdown",
   "id": "046da479",
   "metadata": {},
   "source": [
    "The periodicity and magnitudes, and way the fields change direction all stayed the same, but rotated by 90 degrees. before, the radiation was outward, but the initial pulse of rad was 0 at the tip of the arrow. So by the time it's a small distance away, the radiation goes out pepedicular to the direction of the dipole."
   ]
  },
  {
   "cell_type": "markdown",
   "id": "773d3dd3",
   "metadata": {},
   "source": [
    "## Rotating Dipole\n",
    "\n",
    "Instead of a single dipole oscillating along the $y$-axis, analyze a dipole that is rotating in the $xy$-plane.  The dipole moment is\n",
    "\n",
    "$$\\vec{p}(t) = p_0 \\left(\\hat{e}_x \\cos \\omega t + \\hat{e}_z \\sin \\omega t \\right)$$\n",
    "\n",
    "This is equivalent to two _linear_ dipoles at right angles to each other, oscillating $90^\\circ$ out of phase.\n",
    "\n",
    "The code below simply adds together the fields of the two dipoles you just observed.  Before you run it, make some predictions.\n",
    "\n",
    "- What do you expect the field to look like?\n",
    "- In what directions will the strength of the field be strongest? Weakest?\n",
    "\n",
    "***Write your predictions below.***"
   ]
  },
  {
   "cell_type": "markdown",
   "id": "c43b4f82",
   "metadata": {},
   "source": [
    "I expect the magnitude of raditaion to be smaller with less obvious pulses because the waves will superimpose and cancel each other out"
   ]
  },
  {
   "cell_type": "code",
   "execution_count": 20,
   "id": "87a0874a",
   "metadata": {},
   "outputs": [
    {
     "ename": "TypeError",
     "evalue": "quiver() takes 2-5 positional arguments but 6 were given",
     "output_type": "error",
     "traceback": [
      "\u001b[1;31m---------------------------------------------------------------------------\u001b[0m",
      "\u001b[1;31mTypeError\u001b[0m                                 Traceback (most recent call last)",
      "Input \u001b[1;32mIn [20]\u001b[0m, in \u001b[0;36m<cell line: 42>\u001b[1;34m()\u001b[0m\n\u001b[0;32m     64\u001b[0m Ey[bad] \u001b[38;5;241m=\u001b[39m E_cut \u001b[38;5;241m*\u001b[39m Ex[bad] \u001b[38;5;241m/\u001b[39m E[bad]\n\u001b[0;32m     66\u001b[0m \u001b[38;5;66;03m# Make plot and save to file.\u001b[39;00m\n\u001b[1;32m---> 67\u001b[0m \u001b[43mplt\u001b[49m\u001b[38;5;241;43m.\u001b[39;49m\u001b[43mquiver\u001b[49m\u001b[43m(\u001b[49m\u001b[43mX\u001b[49m\u001b[43m,\u001b[49m\u001b[43m \u001b[49m\u001b[43mY\u001b[49m\u001b[43m,\u001b[49m\u001b[43m \u001b[49m\u001b[43mZ\u001b[49m\u001b[43m,\u001b[49m\u001b[43m \u001b[49m\u001b[43mEx\u001b[49m\u001b[43m,\u001b[49m\u001b[43m \u001b[49m\u001b[43mEy\u001b[49m\u001b[43m,\u001b[49m\u001b[43m \u001b[49m\u001b[43mEz\u001b[49m\u001b[43m,\u001b[49m\u001b[43m \u001b[49m\u001b[43mpivot\u001b[49m\u001b[38;5;241;43m=\u001b[39;49m\u001b[38;5;124;43m'\u001b[39;49m\u001b[38;5;124;43mmiddle\u001b[39;49m\u001b[38;5;124;43m'\u001b[39;49m\u001b[43m,\u001b[49m\u001b[43m \u001b[49m\u001b[43mlw\u001b[49m\u001b[38;5;241;43m=\u001b[39;49m\u001b[38;5;241;43m1\u001b[39;49m\u001b[43m,\u001b[49m\u001b[43m \u001b[49m\u001b[43mscale\u001b[49m\u001b[38;5;241;43m=\u001b[39;49m\u001b[38;5;241;43m40\u001b[39;49m\u001b[43m)\u001b[49m\n\u001b[0;32m     68\u001b[0m plt\u001b[38;5;241m.\u001b[39mquiver(\u001b[38;5;241m0\u001b[39m,\u001b[38;5;241m0\u001b[39m,px,pz, pivot\u001b[38;5;241m=\u001b[39m\u001b[38;5;124m'\u001b[39m\u001b[38;5;124mmiddle\u001b[39m\u001b[38;5;124m'\u001b[39m, color\u001b[38;5;241m=\u001b[39m\u001b[38;5;124m'\u001b[39m\u001b[38;5;124mred\u001b[39m\u001b[38;5;124m'\u001b[39m, lw\u001b[38;5;241m=\u001b[39m\u001b[38;5;241m1\u001b[39m, scale\u001b[38;5;241m=\u001b[39m\u001b[38;5;241m10\u001b[39m)\n\u001b[0;32m     69\u001b[0m plt\u001b[38;5;241m.\u001b[39mxlabel(\u001b[38;5;124m'\u001b[39m\u001b[38;5;124mX [um]\u001b[39m\u001b[38;5;124m'\u001b[39m)\n",
      "File \u001b[1;32m~\\anaconda3\\lib\\site-packages\\matplotlib\\pyplot.py:2788\u001b[0m, in \u001b[0;36mquiver\u001b[1;34m(data, *args, **kwargs)\u001b[0m\n\u001b[0;32m   2786\u001b[0m \u001b[38;5;129m@_copy_docstring_and_deprecators\u001b[39m(Axes\u001b[38;5;241m.\u001b[39mquiver)\n\u001b[0;32m   2787\u001b[0m \u001b[38;5;28;01mdef\u001b[39;00m \u001b[38;5;21mquiver\u001b[39m(\u001b[38;5;241m*\u001b[39margs, data\u001b[38;5;241m=\u001b[39m\u001b[38;5;28;01mNone\u001b[39;00m, \u001b[38;5;241m*\u001b[39m\u001b[38;5;241m*\u001b[39mkwargs):\n\u001b[1;32m-> 2788\u001b[0m     __ret \u001b[38;5;241m=\u001b[39m gca()\u001b[38;5;241m.\u001b[39mquiver(\n\u001b[0;32m   2789\u001b[0m         \u001b[38;5;241m*\u001b[39margs, \u001b[38;5;241m*\u001b[39m\u001b[38;5;241m*\u001b[39m({\u001b[38;5;124m\"\u001b[39m\u001b[38;5;124mdata\u001b[39m\u001b[38;5;124m\"\u001b[39m: data} \u001b[38;5;28;01mif\u001b[39;00m data \u001b[38;5;129;01mis\u001b[39;00m \u001b[38;5;129;01mnot\u001b[39;00m \u001b[38;5;28;01mNone\u001b[39;00m \u001b[38;5;28;01melse\u001b[39;00m {}),\n\u001b[0;32m   2790\u001b[0m         \u001b[38;5;241m*\u001b[39m\u001b[38;5;241m*\u001b[39mkwargs)\n\u001b[0;32m   2791\u001b[0m     sci(__ret)\n\u001b[0;32m   2792\u001b[0m     \u001b[38;5;28;01mreturn\u001b[39;00m __ret\n",
      "File \u001b[1;32m~\\anaconda3\\lib\\site-packages\\matplotlib\\__init__.py:1412\u001b[0m, in \u001b[0;36m_preprocess_data.<locals>.inner\u001b[1;34m(ax, data, *args, **kwargs)\u001b[0m\n\u001b[0;32m   1409\u001b[0m \u001b[38;5;129m@functools\u001b[39m\u001b[38;5;241m.\u001b[39mwraps(func)\n\u001b[0;32m   1410\u001b[0m \u001b[38;5;28;01mdef\u001b[39;00m \u001b[38;5;21minner\u001b[39m(ax, \u001b[38;5;241m*\u001b[39margs, data\u001b[38;5;241m=\u001b[39m\u001b[38;5;28;01mNone\u001b[39;00m, \u001b[38;5;241m*\u001b[39m\u001b[38;5;241m*\u001b[39mkwargs):\n\u001b[0;32m   1411\u001b[0m     \u001b[38;5;28;01mif\u001b[39;00m data \u001b[38;5;129;01mis\u001b[39;00m \u001b[38;5;28;01mNone\u001b[39;00m:\n\u001b[1;32m-> 1412\u001b[0m         \u001b[38;5;28;01mreturn\u001b[39;00m func(ax, \u001b[38;5;241m*\u001b[39m\u001b[38;5;28mmap\u001b[39m(sanitize_sequence, args), \u001b[38;5;241m*\u001b[39m\u001b[38;5;241m*\u001b[39mkwargs)\n\u001b[0;32m   1414\u001b[0m     bound \u001b[38;5;241m=\u001b[39m new_sig\u001b[38;5;241m.\u001b[39mbind(ax, \u001b[38;5;241m*\u001b[39margs, \u001b[38;5;241m*\u001b[39m\u001b[38;5;241m*\u001b[39mkwargs)\n\u001b[0;32m   1415\u001b[0m     auto_label \u001b[38;5;241m=\u001b[39m (bound\u001b[38;5;241m.\u001b[39marguments\u001b[38;5;241m.\u001b[39mget(label_namer)\n\u001b[0;32m   1416\u001b[0m                   \u001b[38;5;129;01mor\u001b[39;00m bound\u001b[38;5;241m.\u001b[39mkwargs\u001b[38;5;241m.\u001b[39mget(label_namer))\n",
      "File \u001b[1;32m~\\anaconda3\\lib\\site-packages\\matplotlib\\axes\\_axes.py:4988\u001b[0m, in \u001b[0;36mAxes.quiver\u001b[1;34m(self, *args, **kwargs)\u001b[0m\n\u001b[0;32m   4986\u001b[0m \u001b[38;5;66;03m# Make sure units are handled for x and y values\u001b[39;00m\n\u001b[0;32m   4987\u001b[0m args \u001b[38;5;241m=\u001b[39m \u001b[38;5;28mself\u001b[39m\u001b[38;5;241m.\u001b[39m_quiver_units(args, kwargs)\n\u001b[1;32m-> 4988\u001b[0m q \u001b[38;5;241m=\u001b[39m mquiver\u001b[38;5;241m.\u001b[39mQuiver(\u001b[38;5;28mself\u001b[39m, \u001b[38;5;241m*\u001b[39margs, \u001b[38;5;241m*\u001b[39m\u001b[38;5;241m*\u001b[39mkwargs)\n\u001b[0;32m   4989\u001b[0m \u001b[38;5;28mself\u001b[39m\u001b[38;5;241m.\u001b[39madd_collection(q, autolim\u001b[38;5;241m=\u001b[39m\u001b[38;5;28;01mTrue\u001b[39;00m)\n\u001b[0;32m   4990\u001b[0m \u001b[38;5;28mself\u001b[39m\u001b[38;5;241m.\u001b[39m_request_autoscale_view()\n",
      "File \u001b[1;32m~\\anaconda3\\lib\\site-packages\\matplotlib\\quiver.py:483\u001b[0m, in \u001b[0;36mQuiver.__init__\u001b[1;34m(self, ax, scale, headwidth, headlength, headaxislength, minshaft, minlength, units, scale_units, angles, width, color, pivot, *args, **kw)\u001b[0m\n\u001b[0;32m    476\u001b[0m \u001b[38;5;124;03m\"\"\"\u001b[39;00m\n\u001b[0;32m    477\u001b[0m \u001b[38;5;124;03mThe constructor takes one required argument, an Axes\u001b[39;00m\n\u001b[0;32m    478\u001b[0m \u001b[38;5;124;03minstance, followed by the args and kwargs described\u001b[39;00m\n\u001b[0;32m    479\u001b[0m \u001b[38;5;124;03mby the following pyplot interface documentation:\u001b[39;00m\n\u001b[0;32m    480\u001b[0m \u001b[38;5;124;03m%s\u001b[39;00m\n\u001b[0;32m    481\u001b[0m \u001b[38;5;124;03m\"\"\"\u001b[39;00m\n\u001b[0;32m    482\u001b[0m \u001b[38;5;28mself\u001b[39m\u001b[38;5;241m.\u001b[39m_axes \u001b[38;5;241m=\u001b[39m ax  \u001b[38;5;66;03m# The attr actually set by the Artist.axes property.\u001b[39;00m\n\u001b[1;32m--> 483\u001b[0m X, Y, U, V, C \u001b[38;5;241m=\u001b[39m \u001b[43m_parse_args\u001b[49m\u001b[43m(\u001b[49m\u001b[38;5;241;43m*\u001b[39;49m\u001b[43margs\u001b[49m\u001b[43m,\u001b[49m\u001b[43m \u001b[49m\u001b[43mcaller_name\u001b[49m\u001b[38;5;241;43m=\u001b[39;49m\u001b[38;5;124;43m'\u001b[39;49m\u001b[38;5;124;43mquiver()\u001b[39;49m\u001b[38;5;124;43m'\u001b[39;49m\u001b[43m)\u001b[49m\n\u001b[0;32m    484\u001b[0m \u001b[38;5;28mself\u001b[39m\u001b[38;5;241m.\u001b[39mX \u001b[38;5;241m=\u001b[39m X\n\u001b[0;32m    485\u001b[0m \u001b[38;5;28mself\u001b[39m\u001b[38;5;241m.\u001b[39mY \u001b[38;5;241m=\u001b[39m Y\n",
      "File \u001b[1;32m~\\anaconda3\\lib\\site-packages\\matplotlib\\quiver.py:425\u001b[0m, in \u001b[0;36m_parse_args\u001b[1;34m(caller_name, *args)\u001b[0m\n\u001b[0;32m    423\u001b[0m     X, Y, U, V, C \u001b[38;5;241m=\u001b[39m np\u001b[38;5;241m.\u001b[39matleast_1d(\u001b[38;5;241m*\u001b[39margs)\n\u001b[0;32m    424\u001b[0m \u001b[38;5;28;01melse\u001b[39;00m:\n\u001b[1;32m--> 425\u001b[0m     \u001b[38;5;28;01mraise\u001b[39;00m \u001b[38;5;167;01mTypeError\u001b[39;00m(\u001b[38;5;124mf\u001b[39m\u001b[38;5;124m'\u001b[39m\u001b[38;5;132;01m{\u001b[39;00mcaller_name\u001b[38;5;132;01m}\u001b[39;00m\u001b[38;5;124m takes 2-5 positional arguments but \u001b[39m\u001b[38;5;124m'\u001b[39m\n\u001b[0;32m    426\u001b[0m                     \u001b[38;5;124mf\u001b[39m\u001b[38;5;124m'\u001b[39m\u001b[38;5;132;01m{\u001b[39;00mlen_args\u001b[38;5;132;01m}\u001b[39;00m\u001b[38;5;124m were given\u001b[39m\u001b[38;5;124m'\u001b[39m)\n\u001b[0;32m    428\u001b[0m nr, nc \u001b[38;5;241m=\u001b[39m (\u001b[38;5;241m1\u001b[39m, U\u001b[38;5;241m.\u001b[39mshape[\u001b[38;5;241m0\u001b[39m]) \u001b[38;5;28;01mif\u001b[39;00m U\u001b[38;5;241m.\u001b[39mndim \u001b[38;5;241m==\u001b[39m \u001b[38;5;241m1\u001b[39m \u001b[38;5;28;01melse\u001b[39;00m U\u001b[38;5;241m.\u001b[39mshape\n\u001b[0;32m    430\u001b[0m \u001b[38;5;28;01mif\u001b[39;00m X \u001b[38;5;129;01mis\u001b[39;00m \u001b[38;5;129;01mnot\u001b[39;00m \u001b[38;5;28;01mNone\u001b[39;00m:\n",
      "\u001b[1;31mTypeError\u001b[0m: quiver() takes 2-5 positional arguments but 6 were given"
     ]
    },
    {
     "data": {
      "image/png": "[encoded data removed]",
      "text/plain": [
       "<Figure size 1200x1200 with 1 Axes>"
      ]
     },
     "metadata": {
      "needs_background": "light"
     },
     "output_type": "display_data"
    }
   ],
   "source": [
    "from scipy.constants import c as speed_of_light\n",
    "\n",
    "# Wavelength in m.\n",
    "lambda0 = 700e-9\n",
    "\n",
    "# Wavelength in um.\n",
    "wavelength = lambda0 * 1e6\n",
    "\n",
    "# Period in fs.\n",
    "period = 1e15 * lambda0 / speed_of_light\n",
    "\n",
    "# Define grid of points and array of times for plotting.\n",
    "t_max = period\n",
    "dt = period / 64\n",
    "t_values = np.arange(0, t_max + dt, dt)\n",
    "N = len(t_values)\n",
    "\n",
    "x_max = 3 * wavelength\n",
    "dx = wavelength / 10\n",
    "coordinates = np.arange(-x_max, x_max + dx, dx)\n",
    "\n",
    "X,Y,Z = np.meshgrid(coordinates, coordinates, coordinates)\n",
    "R = np.sqrt(X**2 + Y**2 + Z**2 + 1e-6)\n",
    "theta = np.arctan2(X,Y,Z)\n",
    "\n",
    "# Define field strength and cutoff for rescaling large values.\n",
    "E0 = 2.0\n",
    "E_cut = 1.0\n",
    "R_cut = 0.5*wavelength\n",
    "\n",
    "# Remove any existing movie frames.\n",
    "system('rm -f *-rotating-dipole.jpg')\n",
    "\n",
    "# It is essential that the frames be named in alphabetical order.\n",
    "# {:03d} will display integers with three digits and insert zeros if needed:\n",
    "# '000_movie.jpg', '001_movie.jpg', etc.\n",
    "file_name = \"{:03d}-rotating-dipole.jpg\"\n",
    "\n",
    "\n",
    "plt.figure(figsize=(6,6), dpi=200)\n",
    "# Generate frames and save each figure as a separate .jpg file.\n",
    "for i, t in enumerate(t_values):\n",
    "    # Plot the dipole that is creating the fields.\n",
    "    pz = -np.cos(2*np.pi * (t/period))\n",
    "    px = -np.sin(2*np.pi * (t/period))\n",
    "    py = -np.cos(2*np.pi * (t/period))\n",
    "\n",
    "    # Compute magnitudes of fields.\n",
    "    E1 = E0 * wavelength * np.sin(theta) * np.cos(2*np.pi * (t/period - R/wavelength)) / R\n",
    "    E2 = -E0 * wavelength * np.cos(theta) * np.sin(2*np.pi * (t/period - R/wavelength)) / R\n",
    "\n",
    "    Ex = (E1 + E2) * np.cos(theta)\n",
    "    Ez = -(E1 + E2) * np.sin(theta)\n",
    "    Ey = (E1 + E2) * np.cos(theta)\n",
    "\n",
    "    # Rescale large values.\n",
    "    Ex[R<R_cut] = 0\n",
    "    Ez[R<R_cut] = 0\n",
    "    Ey[R<R_cut] = 0\n",
    "    E = np.sqrt(Ex**2 + Ez**2) \n",
    "    bad = E > E_cut\n",
    "    Ex[bad] = E_cut * Ex[bad] / E[bad]\n",
    "    Ez[bad] = E_cut * Ez[bad] / E[bad]\n",
    "    Ey[bad] = E_cut * Ex[bad] / E[bad]\n",
    "\n",
    "    # Make plot and save to file.\n",
    "    plt.quiver(X, Y, Z, Ex, Ey, Ez, pivot='middle', lw=1, scale=40)\n",
    "    plt.quiver(0,0,px,pz, pivot='middle', color='red', lw=1, scale=10)\n",
    "    plt.xlabel('X [um]')\n",
    "    plt.ylabel('Z [um]')\n",
    "    plt.savefig(file_name.format(i))  # save current plot\n",
    "\n",
    "    # Clear plot for next frame.\n",
    "    plt.cla()\n",
    "    \n",
    "    print(\"Completed frame %d of %d.\\r\" % (i+1,N), end='')\n",
    "\n",
    "plt.close()\n"
   ]
  },
  {
   "cell_type": "code",
   "execution_count": 13,
   "id": "e342ebf7",
   "metadata": {},
   "outputs": [
    {
     "name": "stderr",
     "output_type": "stream",
     "text": [
      "ffmpeg version 4.2.2 Copyright (c) 2000-2019 the FFmpeg developers\n",
      "  built with gcc 9.2.1 (GCC) 20200122\n",
      "  configuration: --disable-static --enable-shared --enable-gpl --enable-version3 --enable-sdl2 --enable-fontconfig --enable-gnutls --enable-iconv --enable-libass --enable-libdav1d --enable-libbluray --enable-libfreetype --enable-libmp3lame --enable-libopencore-amrnb --enable-libopencore-amrwb --enable-libopenjpeg --enable-libopus --enable-libshine --enable-libsnappy --enable-libsoxr --enable-libtheora --enable-libtwolame --enable-libvpx --enable-libwavpack --enable-libwebp --enable-libx264 --enable-libx265 --enable-libxml2 --enable-libzimg --enable-lzma --enable-zlib --enable-gmp --enable-libvidstab --enable-libvorbis --enable-libvo-amrwbenc --enable-libmysofa --enable-libspeex --enable-libxvid --enable-libaom --enable-libmfx --enable-amf --enable-ffnvcodec --enable-cuvid --enable-d3d11va --enable-nvenc --enable-nvdec --enable-dxva2 --enable-avisynth --enable-libopenmpt\n",
      "  libavutil      56. 31.100 / 56. 31.100\n",
      "  libavcodec     58. 54.100 / 58. 54.100\n",
      "  libavformat    58. 29.100 / 58. 29.100\n",
      "  libavdevice    58.  8.100 / 58.  8.100\n",
      "  libavfilter     7. 57.100 /  7. 57.100\n",
      "  libswscale      5.  5.100 /  5.  5.100\n",
      "  libswresample   3.  5.100 /  3.  5.100\n",
      "  libpostproc    55.  5.100 / 55.  5.100\n",
      "Input #0, image2, from '%03d-rotating-dipole.jpg':\n",
      "  Duration: 00:00:02.60, start: 0.000000, bitrate: N/A\n",
      "    Stream #0:0: Video: mjpeg (Baseline), yuvj420p(pc, bt470bg/unknown/unknown), 1200x1200 [SAR 200:200 DAR 1:1], 25 fps, 25 tbr, 25 tbn, 25 tbc\n",
      "Stream mapping:\n",
      "  Stream #0:0 -> #0:0 (mjpeg (native) -> h264 (libx264))\n",
      "Press [q] to stop, [?] for help\n",
      "[swscaler @ 000001dbe0455900] deprecated pixel format used, make sure you did set range correctly\n",
      "[libx264 @ 000001dbe0453e80] using SAR=1/1\n",
      "[libx264 @ 000001dbe0453e80] using cpu capabilities: MMX2 SSE2Fast SSSE3 SSE4.2 AVX FMA3 BMI2 AVX2 AVX512\n",
      "[libx264 @ 000001dbe0453e80] profile High, level 4.0, 4:2:0, 8-bit\n",
      "[libx264 @ 000001dbe0453e80] 264 - core 159 - H.264/MPEG-4 AVC codec - Copyleft 2003-2019 - http://www.videolan.org/x264.html - options: cabac=1 ref=3 deblock=1:0:0 analyse=0x3:0x113 me=hex subme=7 psy=1 psy_rd=1.00:0.00 mixed_ref=1 me_range=16 chroma_me=1 trellis=1 8x8dct=1 cqm=0 deadzone=21,11 fast_pskip=1 chroma_qp_offset=-2 threads=12 lookahead_threads=2 sliced_threads=0 nr=0 decimate=1 interlaced=0 bluray_compat=0 constrained_intra=0 bframes=3 b_pyramid=2 b_adapt=1 b_bias=0 direct=1 weightb=1 open_gop=0 weightp=2 keyint=250 keyint_min=25 scenecut=40 intra_refresh=0 rc_lookahead=40 rc=crf mbtree=1 crf=23.0 qcomp=0.60 qpmin=0 qpmax=69 qpstep=4 ip_ratio=1.40 aq=1:1.00\n",
      "Output #0, mp4, to 'rotating-movie.mp4':\n",
      "  Metadata:\n",
      "    encoder         : Lavf58.29.100\n",
      "    Stream #0:0: Video: h264 (libx264) (avc1 / 0x31637661), yuv420p, 1200x1200 [SAR 1:1 DAR 1:1], q=-1--1, 25 fps, 12800 tbn, 25 tbc\n",
      "    Metadata:\n",
      "      encoder         : Lavc58.54.100 libx264\n",
      "    Side data:\n",
      "      cpb: bitrate max/min/avg: 0/0/0 buffer size: 0 vbv_delay: -1\n",
      "frame=   47 fps=0.0 q=0.0 size=       0kB time=00:00:00.00 bitrate=N/A speed=   0x    \n",
      "frame=   65 fps= 30 q=-1.0 Lsize=    3362kB time=00:00:02.48 bitrate=11105.7kbits/s speed=1.15x    \n",
      "video:3361kB audio:0kB subtitle:0kB other streams:0kB global headers:0kB muxing overhead: 0.038616%\n",
      "[libx264 @ 000001dbe0453e80] frame I:1     Avg QP:22.44  size:156349\n",
      "[libx264 @ 000001dbe0453e80] frame P:52    Avg QP:25.42  size: 58670\n",
      "[libx264 @ 000001dbe0453e80] frame B:12    Avg QP:29.03  size: 19472\n",
      "[libx264 @ 000001dbe0453e80] consecutive B-frames: 75.4%  0.0%  0.0% 24.6%\n",
      "[libx264 @ 000001dbe0453e80] mb I  I16..4: 32.7% 16.7% 50.6%\n",
      "[libx264 @ 000001dbe0453e80] mb P  I16..4:  0.2%  0.1%  0.3%  P16..4: 11.5% 15.5% 19.9%  0.0%  0.0%    skip:52.5%\n",
      "[libx264 @ 000001dbe0453e80] mb B  I16..4:  0.0%  0.0%  0.0%  B16..8:  6.5%  5.8%  8.3%  direct:12.1%  skip:67.2%  L0:45.1% L1:34.0% BI:20.9%\n",
      "[libx264 @ 000001dbe0453e80] 8x8 transform intra:18.3% inter:15.8%\n",
      "[libx264 @ 000001dbe0453e80] coded y,uvDC,uvAC intra: 40.8% 0.4% 0.3% inter: 24.6% 0.1% 0.1%\n",
      "[libx264 @ 000001dbe0453e80] i16 v,h,dc,p: 82% 11%  6%  0%\n",
      "[libx264 @ 000001dbe0453e80] i8 v,h,dc,ddl,ddr,vr,hd,vl,hu: 59%  4% 30%  3%  0%  0%  0%  1%  1%\n",
      "[libx264 @ 000001dbe0453e80] i4 v,h,dc,ddl,ddr,vr,hd,vl,hu: 35% 15% 17%  6%  6%  6%  5%  5%  4%\n",
      "[libx264 @ 000001dbe0453e80] i8c dc,h,v,p: 100%  0%  0%  0%\n",
      "[libx264 @ 000001dbe0453e80] Weighted P-Frames: Y:0.0% UV:0.0%\n",
      "[libx264 @ 000001dbe0453e80] ref P L0: 71.4% 13.3%  7.6%  7.8%\n",
      "[libx264 @ 000001dbe0453e80] ref B L0: 77.9%  9.4% 12.7%\n",
      "[libx264 @ 000001dbe0453e80] ref B L1: 98.2%  1.8%\n",
      "[libx264 @ 000001dbe0453e80] kb/s:10587.27\n"
     ]
    }
   ],
   "source": [
    "!ffmpeg -y -i %03d-rotating-dipole.jpg -pix_fmt yuv420p rotating-movie.mp4"
   ]
  },
  {
   "cell_type": "code",
   "execution_count": 14,
   "id": "72407b9e",
   "metadata": {},
   "outputs": [
    {
     "data": {
      "text/html": [
       "\n",
       "    <video width=\"800\" height=\"800\" alt=\"test\" controls loop>\n",
       "        <source src=rotating-movie.mp4 type=\"video/mp4\">\n",
       "    </video>\n"
      ],
      "text/plain": [
       "<IPython.core.display.HTML object>"
      ]
     },
     "execution_count": 14,
     "metadata": {},
     "output_type": "execute_result"
    }
   ],
   "source": [
    "# Play the movie within the notebook.\n",
    "HTML(\"\"\"\n",
    "    <video width=\"800\" height=\"800\" alt=\"test\" controls loop>\n",
    "        <source src=%s type=\"video/mp4\">\n",
    "    </video>\n",
    "\"\"\" % \"rotating-movie.mp4\")"
   ]
  },
  {
   "cell_type": "markdown",
   "id": "f56308b8",
   "metadata": {},
   "source": [
    "### Questions\n",
    "\n",
    "Describe the field pattern.\n",
    "\n",
    "- What does the field to look like?\n",
    "- In what directions will the strength of the field be strongest? Weakest?\n",
    "\n",
    "***Report your observations below.***"
   ]
  },
  {
   "cell_type": "markdown",
   "id": "75c95745",
   "metadata": {},
   "source": [
    "The field is spiraling outward from the spinning arrow. The field strength appears to decrease with distance. The spiral is caused by the fact that when the arrow is rotating, any where the point poitns at changes field direction, so each spiral around changes direction"
   ]
  },
  {
   "cell_type": "markdown",
   "id": "0579310b",
   "metadata": {},
   "source": [
    "Would you describe this radiation as a \"plane wave\"?  Why or why not?\n",
    "\n",
    "***Share your opinion below.***"
   ]
  },
  {
   "cell_type": "markdown",
   "id": "332a5da9",
   "metadata": {},
   "source": [
    "I think not because the phase is not constant"
   ]
  },
  {
   "cell_type": "markdown",
   "id": "9e88fc41",
   "metadata": {},
   "source": [
    "Modify the code above to make the dipole rotate in the opposite direction ***and*** produce the correct radiation pattern.\n",
    "\n",
    "**Hint:** It only requires two minus signs ...\n",
    "\n",
    "- Describe your attempts and your results.\n",
    "- Why are only two minus signs required?\n",
    "\n",
    "***Report your observations below.***"
   ]
  },
  {
   "cell_type": "markdown",
   "id": "7b9e79b9",
   "metadata": {},
   "source": [
    "- I removed the minus signs before tehe sin/cos of the dipole equations. Kinda bummed this didn't work.\n",
    "- I changed the signs for the magnitude of E, but I don't expect that to work... This made the whole movie disappear. It's very weird because I tried this multiple times, and each time it broke the movie and to fix it I had to delete the whole cell of code and paste the origical in. Just changing the lines back didn't work. Very weird!\n",
    "- New Idea: change minus sign of only one half of the dipole (one of the two equations): This worked! I'm thinking this is because I had to change the way it moved around one exis, not boht, because changing signs in both would still have the same end result when superimposed. My first thought was in the dipole equations, so I'm counting this as getting it first try:)\n",
    "- Idea: add minus signs inside parenthesis. Based on the previous results, I tried this in only one of the equations, expecting the same results because it's the same overall sign, but thatbroke the move again. Weird\n"
   ]
  },
  {
   "cell_type": "markdown",
   "id": "db4f7e77",
   "metadata": {},
   "source": [
    "What would happen if the dipole along the x-axis were **half as large** as the dipole along the z-axis?\n",
    "\n",
    "- How do you think this would change the field pattern?  Why?\n",
    "\n",
    "***Report your predictions below.***"
   ]
  },
  {
   "cell_type": "markdown",
   "id": "457d217e",
   "metadata": {},
   "source": [
    "I think the magnitude will decrease and the frequency will increase. The smaller mass will make the energy release smaller (mass = energy) and the smaller size would also cause a closer orbit (not sure about the second part though). \n",
    "I also think the patterns will change because the movement of the dipole will no longer be a perfect circle."
   ]
  },
  {
   "cell_type": "markdown",
   "id": "0b83589c",
   "metadata": {},
   "source": [
    "Modify the code above so that the dipole along the  x-axis is **half as large** as that along the z-axis.  You will need to modify `px` and `E2`.\n",
    "\n",
    "- How does this change the field pattern?\n",
    "\n",
    "***Report your observations below.***"
   ]
  },
  {
   "cell_type": "markdown",
   "id": "d679cb36",
   "metadata": {},
   "source": [
    "The rotation of the arrow changed as I expected. It's rotating at the same speed, but it an ellipsoid orbit rather than a circle. This doesn't seem to affect the radiation though. Then I realized I actually changed E1 and pz instead of E2 and px, but this was very similar because the effect was the same, excepts when x was smaller, the arrow got smaller vertically, and when I changed x, the arrow got smaller horizontally."
   ]
  },
  {
   "cell_type": "markdown",
   "id": "672834ea",
   "metadata": {},
   "source": [
    "# Reflection and Summary\n",
    "\n",
    "- What are the major takeaways of this assignment for you?\n",
    " - This is the most I've felt like I understood enough to learn a lot because I have more of a background and electrons and dipoles are way more familiar to me than fields. I was able to see the obviously connected radiation as a direct result of the acceleration of the electron. Being able to view the effect of accelleration in terms of direction *and* velocity was a big takeaway for me. As well as how the action affected direction of the field. I hope my laptop calms down and I can do the last part of the rotating dipole, because I'm excited to see the effect of helf-size along only one axis.\n",
    "- What was the most difficult part of this assignment?\n",
    " - Just my movie not coperating! And at the beginning, I struggled with what we were defining. I think I was wanting to answer the questions about the sin wave of the dipole, rather than of the periodicity of the radiation. I'm pretty sure I figuerd that out, but I still don't fully understand what makes a plane wave.\n",
    "- What was the most interesting part of this assignment?\n",
    " - All of it? Also, the rotiational way the direction of the dipole around x, y changed. I didn't expect that and it was harder for me to figure out.\n",
    "- What questions do you have?\n",
    " - What makes a plane wave special? I think I've been missing that piece of understanding. \n",
    " - Is there a way to actually plot the movement of the rotational dipole?\n",
    "\n",
    "***Include your response below.***"
   ]
  },
  {
   "cell_type": "markdown",
   "id": "9485dbc5",
   "metadata": {},
   "source": [
    "# Challenge Problems\n",
    "\n",
    "The challenge problems below ask you to extend the simulation above.  \n",
    "\n",
    "\n",
    "## 3D Plots\n",
    "\n",
    "Adapt the code to plot the field of a linear dipole or a rotating dipole in three dimensions.\n"
   ]
  },
  {
   "cell_type": "markdown",
   "id": "3b2a00b1",
   "metadata": {},
   "source": [
    "I tried making the plot 3D (that's why it looks broken now). I thought to add a Y anywhere I saw X,Z. This didn't work. I think adding another dipole and another E value was on the right track, but I couldn't create a grid or quizer plot with the third axis "
   ]
  },
  {
   "cell_type": "markdown",
   "id": "ff9edead",
   "metadata": {},
   "source": [
    "## A note on coordinates and formulae\n",
    "\n",
    "The simulation above uses spherical coordinates to match equations in textbooks.  However, this is not always convenient for simulating problems on a grid.  For instance, the equations for the fields assume the dipoles are at the origin.  If there are two dipoles at different locations, \"$\\hat{e}_r$\" and \"$\\hat{e}_\\theta$\" in the formulas are ***not*** the same vector for both dipoles.\n",
    "\n",
    "It might be easier to work in Cartesian coordinates.  The following relations may be useful if you attempt the challenge problems. If the location of the dipole is $(x_0, y_0, z_0)$, then the textbook formulae translate as follows.\n",
    "\n",
    "\\begin{align*}\n",
    "r &= \\sqrt{(x-x_0)^2 + (y-y_0)^2 + (z-z_0)^2} \\\\\n",
    "\\cos \\theta & = \\dfrac{z-z_0}{r} \\\\\n",
    "\\sin \\theta &= \\dfrac{\\sqrt{(x-x_0)^2 + (y-y_0)^2}}{r} \\\\\n",
    "\\cos \\phi &= \\dfrac{x-x_0}{\\sqrt{(x-x_0)^2+(y-y_0)^2}} \\\\\n",
    "\\sin \\phi &= \\dfrac{y-y_0}{\\sqrt{(x-x_0)^2+(y-y_0)^2}} \\\\\n",
    "\\hat{e}_r &= \\hat{e}_x \\, \\sin \\theta \\cos \\phi + \\hat{e}_y \\, \\sin \\theta \\sin \\phi + \\hat{e}_z \\, \\cos \\theta \\\\\n",
    "\\hat{e}_\\theta &= \\hat{e}_x \\, \\cos \\theta \\cos \\phi + \\hat{e}_y \\, \\cos \\theta \\sin \\phi - \\hat{e}_z \\sin \\theta \\\\\n",
    "\\hat{e}_\\phi &= -\\hat{e}_x \\, \\sin \\phi + \\hat{e}_y \\, \\cos \\phi\n",
    "\\end{align*}"
   ]
  }
 ],
 "metadata": {
  "kernelspec": {
   "display_name": "Python 3 (ipykernel)",
   "language": "python",
   "name": "python3"
  },
  "language_info": {
   "codemirror_mode": {
    "name": "ipython",
    "version": 3
   },
   "file_extension": ".py",
   "mimetype": "text/x-python",
   "name": "python",
   "nbconvert_exporter": "python",
   "pygments_lexer": "ipython3",
   "version": "3.9.12"
  }
 },
 "nbformat": 4,
 "nbformat_minor": 5
}
